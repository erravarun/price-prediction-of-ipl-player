{
 "cells": [
  {
   "cell_type": "markdown",
   "metadata": {},
   "source": [
    "IMPORTING ALL THE REQUIRED LIBRARIES AND MODULES"
   ]
  },
  {
   "cell_type": "code",
   "execution_count": 1,
   "metadata": {},
   "outputs": [],
   "source": [
    "import pandas as pd\n",
    "from sklearn import linear_model, metrics\n",
    "from sklearn.metrics import mean_absolute_error as mae\n",
    "from sklearn.metrics import mean_squared_error as mse\n",
    "import matplotlib.pyplot as plt"
   ]
  },
  {
   "cell_type": "markdown",
   "metadata": {},
   "source": [
    "CREATING a DataFrame FOR OVERALL DATA"
   ]
  },
  {
   "cell_type": "code",
   "execution_count": 2,
   "metadata": {},
   "outputs": [],
   "source": [
    "df = pd.read_csv(r\"C:\\Users\\Sai Saran\\OneDrive\\Desktop\\MinorProject\\Main\\IPL_Data(AutoRecovered).csv\")"
   ]
  },
  {
   "cell_type": "markdown",
   "metadata": {},
   "source": [
    "IDENTIFYING SEVERAL CLASSES"
   ]
  },
  {
   "cell_type": "code",
   "execution_count": 3,
   "metadata": {},
   "outputs": [
    {
     "data": {
      "text/plain": [
       "array(['Batsman ', 'All-Rounder ', 'Bowler ', 'Wicket-Keeper '],\n",
       "      dtype=object)"
      ]
     },
     "execution_count": 3,
     "metadata": {},
     "output_type": "execute_result"
    }
   ],
   "source": [
    "df['Type'].unique()"
   ]
  },
  {
   "cell_type": "markdown",
   "metadata": {},
   "source": [
    "SPLITTING THE DATA ACCORDING TO THE CLASSES"
   ]
  },
  {
   "cell_type": "code",
   "execution_count": 4,
   "metadata": {},
   "outputs": [
    {
     "data": {
      "text/plain": [
       "array([1, 0, 2, 3])"
      ]
     },
     "execution_count": 4,
     "metadata": {},
     "output_type": "execute_result"
    }
   ],
   "source": [
    "from sklearn import preprocessing\n",
    "label_encoder = preprocessing.LabelEncoder()\n",
    "df['Type']= label_encoder.fit_transform(df['Type'])\n",
    "df['Type'].unique()"
   ]
  },
  {
   "cell_type": "markdown",
   "metadata": {},
   "source": [
    "USING THE REQUIRED FEATURES FOR EACH AND EVERY CLASS"
   ]
  },
  {
   "cell_type": "code",
   "execution_count": 5,
   "metadata": {},
   "outputs": [],
   "source": [
    "batsman = df[df['Type'] == 1][['Name','ValueinCR', 'MatchPlayed', 'InningsBatted', 'RunsScored', '100s', '50s', 'BattingAVG', 'BattingS/R', 'CatchesTaken', 'Captaincy']].fillna(0)\n",
    "bowler = df[df['Type'] == 2][['Name','ValueinCR', 'MatchPlayed', 'CatchesTaken', 'InningsBowled', 'EconomyRate', 'Wickets', 'BowlingAVG', '3s', '5s', 'Captaincy']].fillna(0)\n",
    "all_rounder = df[df['Type'] == 0][['Name', 'ValueinCR', 'MatchPlayed', 'InningsBatted', 'RunsScored', '100s', '50s', 'BattingAVG', 'BattingS/R', 'CatchesTaken', 'InningsBowled', 'EconomyRate', 'Maidens', 'Wickets', 'BowlingAVG', '3s', '5s', 'Captaincy']].fillna(0)\n",
    "wk = df[df['Type'] == 3][['Name', 'ValueinCR', 'MatchPlayed', 'InningsBatted', 'RunsScored', '100s', '50s', 'BattingAVG', 'BattingS/R', 'CatchesTaken', 'StumpingsMade', 'Captaincy']].fillna(0)"
   ]
  },
  {
   "cell_type": "markdown",
   "metadata": {},
   "source": [
    "PREDICTION FOR BATSMAN"
   ]
  },
  {
   "cell_type": "code",
   "execution_count": 6,
   "metadata": {},
   "outputs": [],
   "source": [
    "x_bat = batsman[['MatchPlayed', 'InningsBatted', 'RunsScored', '100s', '50s', 'BattingAVG', 'BattingS/R', 'CatchesTaken', 'Captaincy']]\n",
    "y_bat = batsman[\"ValueinCR\"]"
   ]
  },
  {
   "cell_type": "markdown",
   "metadata": {},
   "source": [
    "TRAINING AND TESTING DATASETS SPLIT"
   ]
  },
  {
   "cell_type": "code",
   "execution_count": 7,
   "metadata": {},
   "outputs": [],
   "source": [
    "x_bat_train = pd.read_csv(r\"C:\\Users\\Sai Saran\\OneDrive\\Desktop\\MinorProject\\Main\\TrainingDataBat.csv\")\n",
    "x_bat_test = pd.read_csv(r\"C:\\Users\\Sai Saran\\OneDrive\\Desktop\\MinorProject\\Main\\TestingDataBat.csv\")\n",
    "y_bat_train = pd.read_csv(r\"C:\\Users\\Sai Saran\\OneDrive\\Desktop\\MinorProject\\Main\\TrainingTargetBat.csv\")\n",
    "y_bat_test = pd.read_csv(r\"C:\\Users\\Sai Saran\\OneDrive\\Desktop\\MinorProject\\Main\\TestingTargetBat.csv\")"
   ]
  },
  {
   "cell_type": "markdown",
   "metadata": {},
   "source": [
    "FITTING THE MODEL"
   ]
  },
  {
   "cell_type": "code",
   "execution_count": 8,
   "metadata": {},
   "outputs": [],
   "source": [
    "reg_bat = linear_model.LinearRegression()\n",
    "reg_bat.fit(x_bat_train, y_bat_train)\n",
    "y_bat_pred = reg_bat.predict(x_bat_test)"
   ]
  },
  {
   "cell_type": "markdown",
   "metadata": {},
   "source": [
    "FINDING THE ERRORS"
   ]
  },
  {
   "cell_type": "code",
   "execution_count": 9,
   "metadata": {},
   "outputs": [
    {
     "name": "stdout",
     "output_type": "stream",
     "text": [
      "Mean Absolute error for Batsman :  1.8778628059768536\n",
      "Mean Squared error for Batsman :  5.805512587540252\n"
     ]
    }
   ],
   "source": [
    "a_error_bat = mae(y_bat_test, y_bat_pred)\n",
    "s_error_bat = mse(y_bat_test, y_bat_pred)\n",
    "print(\"Mean Absolute error for Batsman : \" , a_error_bat)\n",
    "print(\"Mean Squared error for Batsman : \" , s_error_bat)"
   ]
  },
  {
   "cell_type": "markdown",
   "metadata": {},
   "source": [
    "REAL TIME TESTING"
   ]
  },
  {
   "cell_type": "code",
   "execution_count": 10,
   "metadata": {},
   "outputs": [
    {
     "name": "stdout",
     "output_type": "stream",
     "text": [
      "10.24869790396264\n"
     ]
    },
    {
     "name": "stderr",
     "output_type": "stream",
     "text": [
      "C:\\Users\\Sai Saran\\AppData\\Local\\Programs\\Python\\Python310\\lib\\site-packages\\sklearn\\base.py:450: UserWarning: X does not have valid feature names, but LinearRegression was fitted with feature names\n",
      "  warnings.warn(\n"
     ]
    }
   ],
   "source": [
    "import numpy as np\n",
    "input_bat = np.array([[207, 199, 6283, 5, 42, 37.39, 129.94, 84, 1]])\n",
    "out_bat = reg_bat.predict(input_bat)\n",
    "print(out_bat[0][0])"
   ]
  },
  {
   "cell_type": "markdown",
   "metadata": {},
   "source": [
    "PREDICTION FOR BOWLER"
   ]
  },
  {
   "cell_type": "code",
   "execution_count": 11,
   "metadata": {},
   "outputs": [],
   "source": [
    "x_bowl = bowler[['MatchPlayed', 'InningsBowled', 'EconomyRate', 'Wickets', 'BowlingAVG', '3s', '5s', 'CatchesTaken', 'Captaincy']]\n",
    "y_bowl = bowler[\"ValueinCR\"]"
   ]
  },
  {
   "cell_type": "markdown",
   "metadata": {},
   "source": [
    "TRAINING AND TESTING DATASETS SPLIT"
   ]
  },
  {
   "cell_type": "code",
   "execution_count": 12,
   "metadata": {},
   "outputs": [],
   "source": [
    "x_bowl_train = pd.read_csv(r\"C:\\Users\\Sai Saran\\OneDrive\\Desktop\\MinorProject\\Main\\TrainingDataBowl.csv\")\n",
    "x_bowl_test = pd.read_csv(r\"C:\\Users\\Sai Saran\\OneDrive\\Desktop\\MinorProject\\Main\\TestingDataBowl.csv\")\n",
    "y_bowl_train = pd.read_csv(r\"C:\\Users\\Sai Saran\\OneDrive\\Desktop\\MinorProject\\Main\\TrainingTargetBowl.csv\")\n",
    "y_bowl_test = pd.read_csv(r\"C:\\Users\\Sai Saran\\OneDrive\\Desktop\\MinorProject\\Main\\TestingTargetBowl.csv\")"
   ]
  },
  {
   "cell_type": "markdown",
   "metadata": {},
   "source": [
    "FITTING THE MODEL"
   ]
  },
  {
   "cell_type": "code",
   "execution_count": 13,
   "metadata": {},
   "outputs": [],
   "source": [
    "reg_bowl = linear_model.LinearRegression()\n",
    "reg_bowl.fit(x_bowl_train, y_bowl_train)\n",
    "y_bowl_pred = reg_bowl.predict(x_bowl_test)"
   ]
  },
  {
   "cell_type": "markdown",
   "metadata": {},
   "source": [
    "FINDING THE ERRORS"
   ]
  },
  {
   "cell_type": "code",
   "execution_count": 14,
   "metadata": {},
   "outputs": [
    {
     "name": "stdout",
     "output_type": "stream",
     "text": [
      "Mean Absolute error for Bowler :  1.5540028663322625\n",
      "Mean Squared error for Bowler :  5.3939545565206295\n"
     ]
    }
   ],
   "source": [
    "a_error_bowl = mae(y_bowl_test, y_bowl_pred)\n",
    "s_error_bowl = mse(y_bowl_test, y_bowl_pred)\n",
    "print(\"Mean Absolute error for Bowler : \" , a_error_bowl)\n",
    "print(\"Mean Squared error for Bowler : \" , s_error_bowl)"
   ]
  },
  {
   "cell_type": "markdown",
   "metadata": {},
   "source": [
    "REAL TIME TESTING"
   ]
  },
  {
   "cell_type": "code",
   "execution_count": 15,
   "metadata": {},
   "outputs": [
    {
     "name": "stdout",
     "output_type": "stream",
     "text": [
      "6.875445281557752\n"
     ]
    },
    {
     "name": "stderr",
     "output_type": "stream",
     "text": [
      "C:\\Users\\Sai Saran\\AppData\\Local\\Programs\\Python\\Python310\\lib\\site-packages\\sklearn\\base.py:450: UserWarning: X does not have valid feature names, but LinearRegression was fitted with feature names\n",
      "  warnings.warn(\n"
     ]
    }
   ],
   "source": [
    "import numpy as np\n",
    "input_bowl = np.array([[114, 113, 7.59, 139, 22.28, 9, 0, 24, 0]])\n",
    "out_bowl = reg_bowl.predict(input_bowl)\n",
    "print(out_bowl[0][0])"
   ]
  },
  {
   "cell_type": "markdown",
   "metadata": {},
   "source": [
    "PREDICTION FOR ALL ROUNDERS"
   ]
  },
  {
   "cell_type": "code",
   "execution_count": 16,
   "metadata": {},
   "outputs": [],
   "source": [
    "x_all = all_rounder[['MatchPlayed', 'InningsBatted', 'RunsScored', '100s', '50s', 'BattingAVG', 'BattingS/R', 'CatchesTaken', 'InningsBowled', 'EconomyRate', 'Maidens', 'Wickets', 'BowlingAVG', '3s', '5s', 'Captaincy']]\n",
    "y_all = all_rounder['ValueinCR']"
   ]
  },
  {
   "cell_type": "markdown",
   "metadata": {},
   "source": [
    "TRAINING AND TESTING DATASETS SPLIT"
   ]
  },
  {
   "cell_type": "code",
   "execution_count": 17,
   "metadata": {},
   "outputs": [],
   "source": [
    "x_all_train = pd.read_csv(r\"C:\\Users\\Sai Saran\\OneDrive\\Desktop\\MinorProject\\Main\\TrainingDataAll.csv\")\n",
    "x_all_test = pd.read_csv(r\"C:\\Users\\Sai Saran\\OneDrive\\Desktop\\MinorProject\\Main\\TestingDataAll.csv\")\n",
    "y_all_train = pd.read_csv(r\"C:\\Users\\Sai Saran\\OneDrive\\Desktop\\MinorProject\\Main\\TrainingTargetAll.csv\")\n",
    "y_all_test = pd.read_csv(r\"C:\\Users\\Sai Saran\\OneDrive\\Desktop\\MinorProject\\Main\\TestingTargetAll.csv\")"
   ]
  },
  {
   "cell_type": "markdown",
   "metadata": {},
   "source": [
    "FITTING THE MODEL"
   ]
  },
  {
   "cell_type": "code",
   "execution_count": 18,
   "metadata": {},
   "outputs": [],
   "source": [
    "reg_all = linear_model.LinearRegression()\n",
    "reg_all.fit(x_all_train, y_all_train)\n",
    "y_all_pred = reg_all.predict(x_all_test)"
   ]
  },
  {
   "cell_type": "markdown",
   "metadata": {},
   "source": [
    "FINDING THE ERRORS"
   ]
  },
  {
   "cell_type": "code",
   "execution_count": 19,
   "metadata": {},
   "outputs": [
    {
     "name": "stdout",
     "output_type": "stream",
     "text": [
      "Mean Absolute error for All-Rounder :  2.8446941829941963\n",
      "Mean Squared error for All-Rounder :  12.88633028031601\n"
     ]
    }
   ],
   "source": [
    "a_error_all = mae(y_all_test, y_all_pred)\n",
    "s_error_all = mse(y_all_test, y_all_pred)\n",
    "print(\"Mean Absolute error for All-Rounder : \" , a_error_all)\n",
    "print(\"Mean Squared error for All-Rounder : \" , s_error_all)"
   ]
  },
  {
   "cell_type": "markdown",
   "metadata": {},
   "source": [
    "REAL TIME TESTING"
   ]
  },
  {
   "cell_type": "code",
   "execution_count": 20,
   "metadata": {},
   "outputs": [
    {
     "name": "stdout",
     "output_type": "stream",
     "text": [
      "14.891758825663837\n"
     ]
    },
    {
     "name": "stderr",
     "output_type": "stream",
     "text": [
      "C:\\Users\\Sai Saran\\AppData\\Local\\Programs\\Python\\Python310\\lib\\site-packages\\sklearn\\base.py:450: UserWarning: X does not have valid feature names, but LinearRegression was fitted with feature names\n",
      "  warnings.warn(\n"
     ]
    }
   ],
   "source": [
    "import numpy as np\n",
    "input_all = np.array([[84, 70, 1700, 0, 9, 29.31, 178.57, 25, 76, 9.04, 0, 72, 26.4, 6, 1, 0]])\n",
    "out_all = reg_all.predict(input_all)\n",
    "print(out_all[0][0])"
   ]
  },
  {
   "cell_type": "markdown",
   "metadata": {},
   "source": [
    "PREDICTION FOR WICKET KEEPERS"
   ]
  },
  {
   "cell_type": "code",
   "execution_count": 21,
   "metadata": {},
   "outputs": [],
   "source": [
    "x_wk = wk[['MatchPlayed', 'InningsBatted', 'RunsScored', '100s', '50s', 'BattingAVG', 'BattingS/R', 'CatchesTaken', 'StumpingsMade', 'Captaincy']]\n",
    "y_wk = wk[\"ValueinCR\"]"
   ]
  },
  {
   "cell_type": "markdown",
   "metadata": {},
   "source": [
    "TRAINING AND TESTING DATASETS SPLIT"
   ]
  },
  {
   "cell_type": "code",
   "execution_count": 22,
   "metadata": {},
   "outputs": [],
   "source": [
    "x_wk_train = pd.read_csv(r\"C:\\Users\\Sai Saran\\OneDrive\\Desktop\\MinorProject\\Main\\TrainingDataWk.csv\")\n",
    "x_wk_test = pd.read_csv(r\"C:\\Users\\Sai Saran\\OneDrive\\Desktop\\MinorProject\\Main\\TestingDataWk.csv\")\n",
    "y_wk_train = pd.read_csv(r\"C:\\Users\\Sai Saran\\OneDrive\\Desktop\\MinorProject\\Main\\TrainingTargetWk.csv\")\n",
    "y_wk_test = pd.read_csv(r\"C:\\Users\\Sai Saran\\OneDrive\\Desktop\\MinorProject\\Main\\TestingTargetWk.csv\")"
   ]
  },
  {
   "cell_type": "markdown",
   "metadata": {},
   "source": [
    "FITTING THE MODEL"
   ]
  },
  {
   "cell_type": "code",
   "execution_count": 23,
   "metadata": {},
   "outputs": [],
   "source": [
    "reg_wk = linear_model.LinearRegression()\n",
    "reg_wk.fit(x_wk_train, y_wk_train)\n",
    "y_wk_pred = reg_wk.predict(x_wk_test)"
   ]
  },
  {
   "cell_type": "markdown",
   "metadata": {},
   "source": [
    "FINDING THE ERRORS"
   ]
  },
  {
   "cell_type": "code",
   "execution_count": 24,
   "metadata": {},
   "outputs": [
    {
     "name": "stdout",
     "output_type": "stream",
     "text": [
      "Mean Absolute error for Wicket-Keeper :  3.0993250622003745\n",
      "Mean Squared error for Wicket-Keeper :  12.215373521297787\n"
     ]
    }
   ],
   "source": [
    "a_error_wk = mae(y_wk_test, y_wk_pred)\n",
    "s_error_wk = mse(y_wk_test, y_wk_pred)\n",
    "print(\"Mean Absolute error for Wicket-Keeper : \" , a_error_wk)\n",
    "print(\"Mean Squared error for Wicket-Keeper : \" , s_error_wk)"
   ]
  },
  {
   "cell_type": "markdown",
   "metadata": {},
   "source": [
    "REAL TIME TESTING"
   ]
  },
  {
   "cell_type": "code",
   "execution_count": 26,
   "metadata": {},
   "outputs": [
    {
     "name": "stdout",
     "output_type": "stream",
     "text": [
      "11.116622024728514\n"
     ]
    },
    {
     "name": "stderr",
     "output_type": "stream",
     "text": [
      "c:\\Users\\Sai Saran\\AppData\\Local\\Programs\\Python\\Python310\\lib\\site-packages\\sklearn\\base.py:450: UserWarning: X does not have valid feature names, but LinearRegression was fitted with feature names\n",
      "  warnings.warn(\n"
     ]
    }
   ],
   "source": [
    "import numpy as np\n",
    "input_wk = np.array([[77, 77, 2256, 1, 16, 31.33, 130.93, 53, 14, 0]])\n",
    "out_wk = reg_wk.predict(input_wk)\n",
    "print(out_wk[0][0])"
   ]
  },
  {
   "cell_type": "code",
   "execution_count": null,
   "metadata": {},
   "outputs": [],
   "source": []
  }
 ],
 "metadata": {
  "kernelspec": {
   "display_name": "Python 3 (ipykernel)",
   "language": "python",
   "name": "python3"
  },
  "language_info": {
   "codemirror_mode": {
    "name": "ipython",
    "version": 3
   },
   "file_extension": ".py",
   "mimetype": "text/x-python",
   "name": "python",
   "nbconvert_exporter": "python",
   "pygments_lexer": "ipython3",
   "version": "3.10.6"
  },
  "vscode": {
   "interpreter": {
    "hash": "3c15fc88633b0d13964065f49ca2874b1e8c640cd3351417642f4628b167dbc9"
   }
  }
 },
 "nbformat": 4,
 "nbformat_minor": 2
}
